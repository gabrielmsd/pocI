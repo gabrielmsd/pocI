{
 "cells": [
  {
   "cell_type": "code",
   "execution_count": 337,
   "metadata": {},
   "outputs": [],
   "source": [
    "import numpy as np\n",
    "import pandas as pd\n",
    "import matplotlib.pyplot as plt\n",
    "from sklearn.manifold import TSNE"
   ]
  },
  {
   "cell_type": "code",
   "execution_count": 338,
   "metadata": {},
   "outputs": [],
   "source": [
    "def plotResults(name, results):\n",
    "    xs = results [:,0]\n",
    "    ys = results [:, 1]\n",
    "    plt.plot(xs, ys, s=0.7, label=name)"
   ]
  },
  {
   "cell_type": "code",
   "execution_count": null,
   "metadata": {
    "scrolled": true
   },
   "outputs": [],
   "source": [
    "def runModel(name, d):\n",
    "    print('Running the model...')\n",
    "    model = TSNE(learning_rate = 150)\n",
    "    transformedData = model.fit_transform(d)\n",
    "    plotResults(name, transformedData)"
   ]
  },
  {
   "cell_type": "markdown",
   "metadata": {},
   "source": [
    "Getting the relevant informations"
   ]
  },
  {
   "cell_type": "code",
   "execution_count": null,
   "metadata": {},
   "outputs": [],
   "source": [
    "import numpy as np\n",
    "import pandas as pd\n",
    "import matplotlib.pyplot as plt\n",
    "from sklearn.manifold import TSNE\n",
    "\n",
    "features = ['tipo_cancer', 'sexo', 'grau_instrucao', 'renda_familiar', 'situacao_emprego', \n",
    "            'apresentou_sinal_sintoma', 'cancer_tem_metastase', 'nome_medicamento', 'qual_primeiro_tratamento', 'idade']\n",
    "#            'ja_iniciou_tratamento', 'qual_tratamento', 'onde_faz_tratamento_atualmente', 'qual_primeiro_tratamento', \n",
    "#           'tratamento_alterou_sua_rotina', \n",
    "#            'nome_medicamento', 'apresentou_sinal_sintoma',\n",
    "\n",
    "colors = {'Câncer Colorretal': 'yellow', \n",
    "          'Câncer de Bexiga': 'orange', \n",
    "          'Câncer de Mama': 'pink', \n",
    "          'Câncer de Próstata': 'blue', \n",
    "          'Câncer de Colo do Útero': 'red', \n",
    "          'Câncer de Rim': 'violet',\n",
    "          'Câncer de Tireoide': 'brown',\n",
    "          'Câncer de Ovário': 'green'}\n",
    "\n",
    "#df2015 = pd.read_excel(\"oncoguia.xlsx\", sheet_name = \"protocolos_ate_31-08-2015\")\n",
    "df2017 = pd.read_excel(\"oncoguia.xlsx\", sheet_name = \"protocolos_2017\")\n",
    "#frames = [df2015, df2017]\n",
    "#protocolos = pd.concat(frames)\n",
    "protocolos = df2017\n",
    "data = protocolos[features]\n",
    "data = data[data['idade'] >= 0]\n",
    "groupedData = data.groupby(data['tipo_cancer'])\n",
    "\n",
    "\n",
    "fig, ax = plt.subplots()\n",
    "ax.margins(0., 0.3)\n",
    "for tipoCancer, dataByType in groupedData:\n",
    "    del dataByType['tipo_cancer']\n",
    "    dataByType = pd.get_dummies(dataByType)\n",
    "    if(tipoCancer == 'Câncer Colorretal' or \n",
    "       tipoCancer ==  'Câncer de Bexiga' or \n",
    "       tipoCancer == 'Câncer de Mama' or \n",
    "       tipoCancer == 'Câncer de Próstata' or\n",
    "       tipoCancer == 'Câncer de Colo do Útero' or\n",
    "       tipoCancer == 'Câncer de Rim' or\n",
    "       tipoCancer == 'Câncer de Tireoide' or\n",
    "       tipoCancer == 'Câncer de Ovário'):\n",
    "            model = TSNE(learning_rate = 100)\n",
    "            transformedData = model.fit_transform(dataByType)\n",
    "            xs = transformedData [:,0]\n",
    "            ys = transformedData [:, 1]\n",
    "            ax.plot(xs, ys, marker='o', linestyle='', ms=1.5, label=tipoCancer, c=colors[tipoCancer])\n",
    "ax.legend(loc='upper left', prop={'size':7}, bbox_to_anchor=(1, 1))\n",
    "plt.show()\n",
    "fig.savefig('tsne.png')\n",
    "print('END')"
   ]
  },
  {
   "cell_type": "code",
   "execution_count": null,
   "metadata": {
    "scrolled": true
   },
   "outputs": [],
   "source": []
  }
 ],
 "metadata": {
  "kernelspec": {
   "display_name": "Python 3",
   "language": "python",
   "name": "python3"
  },
  "language_info": {
   "codemirror_mode": {
    "name": "ipython",
    "version": 3
   },
   "file_extension": ".py",
   "mimetype": "text/x-python",
   "name": "python",
   "nbconvert_exporter": "python",
   "pygments_lexer": "ipython3",
   "version": "3.6.4"
  }
 },
 "nbformat": 4,
 "nbformat_minor": 2
}
